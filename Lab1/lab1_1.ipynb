criteria = [
    [3, 7, 2, 9],
    [8, 3, 6, 7],
    [4, 8, 3, 5],
    [9, 6, 5, 4]
]

weights = [8, 9, 6, 7]

sums = [sum(criteria[i][j] * weights[j] for j in range(len(weights))) for i in range(len(criteria))]

optimal_alternative_index = max(range(len(sums)), key=lambda x: sums[x])

optimal_alternative = f"A{optimal_alternative_index + 1}"
optimal_value = sums[optimal_alternative_index]

print(f"Оптимальна альтернатива: {optimal_alternative}")
print(f"Відповідне значення: {optimal_value}")
